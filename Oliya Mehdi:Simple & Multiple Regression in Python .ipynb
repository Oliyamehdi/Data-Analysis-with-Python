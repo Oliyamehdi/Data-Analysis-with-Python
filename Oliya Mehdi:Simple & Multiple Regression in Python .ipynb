{
 "cells": [
  {
   "cell_type": "markdown",
   "id": "2ed0f345",
   "metadata": {},
   "source": [
    "Assignment activity 1: Make predictions with regression (Simple & Multiple Linear Regression)"
   ]
  },
  {
   "cell_type": "markdown",
   "id": "bf7dfa59",
   "metadata": {},
   "source": [
    "Objective:\n",
    "What price should be set for the Lego sets with 8,000 Lego pieces? (Simple linear regression)"
   ]
  },
  {
   "cell_type": "code",
   "execution_count": 2,
   "id": "884dd8cd",
   "metadata": {},
   "outputs": [],
   "source": [
    "#Prepare your workstation "
   ]
  },
  {
   "cell_type": "code",
   "execution_count": 3,
   "id": "9e955d97",
   "metadata": {},
   "outputs": [],
   "source": [
    "#import all the necessary packages\n",
    "import numpy as np\n",
    "import pandas as pd\n",
    "import statsmodels.api as sm\n",
    "import statsmodels.stats.api as sms\n",
    "import sklearn\n",
    "import matplotlib.pyplot as plt\n",
    "import seaborn as sns\n",
    "\n",
    "from sklearn import datasets \n",
    "from sklearn import linear_model\n",
    "from statsmodels.stats.outliers_influence import variance_inflation_factor\n",
    "from sklearn.model_selection import train_test_split\n",
    "from sklearn import metrics\n",
    "from sklearn.linear_model import LinearRegression\n",
    "from statsmodels.formula.api import ols"
   ]
  },
  {
   "cell_type": "code",
   "execution_count": 4,
   "id": "172578dd",
   "metadata": {},
   "outputs": [],
   "source": [
    "# Sense Check the data set"
   ]
  },
  {
   "cell_type": "code",
   "execution_count": 5,
   "id": "f27a0bd4",
   "metadata": {},
   "outputs": [],
   "source": [
    "#Import the data set \n",
    "df_lego = pd.read_csv('lego.csv')"
   ]
  },
  {
   "cell_type": "code",
   "execution_count": 6,
   "id": "e4d407ce",
   "metadata": {},
   "outputs": [
    {
     "data": {
      "text/html": [
       "<div>\n",
       "<style scoped>\n",
       "    .dataframe tbody tr th:only-of-type {\n",
       "        vertical-align: middle;\n",
       "    }\n",
       "\n",
       "    .dataframe tbody tr th {\n",
       "        vertical-align: top;\n",
       "    }\n",
       "\n",
       "    .dataframe thead th {\n",
       "        text-align: right;\n",
       "    }\n",
       "</style>\n",
       "<table border=\"1\" class=\"dataframe\">\n",
       "  <thead>\n",
       "    <tr style=\"text-align: right;\">\n",
       "      <th></th>\n",
       "      <th>ages</th>\n",
       "      <th>list_price</th>\n",
       "      <th>num_reviews</th>\n",
       "      <th>piece_count</th>\n",
       "      <th>play_star_rating</th>\n",
       "      <th>review_difficulty</th>\n",
       "      <th>country</th>\n",
       "    </tr>\n",
       "  </thead>\n",
       "  <tbody>\n",
       "    <tr>\n",
       "      <th>0</th>\n",
       "      <td>19</td>\n",
       "      <td>29.99</td>\n",
       "      <td>2</td>\n",
       "      <td>277</td>\n",
       "      <td>4.0</td>\n",
       "      <td>0</td>\n",
       "      <td>20</td>\n",
       "    </tr>\n",
       "    <tr>\n",
       "      <th>1</th>\n",
       "      <td>19</td>\n",
       "      <td>19.99</td>\n",
       "      <td>2</td>\n",
       "      <td>168</td>\n",
       "      <td>4.0</td>\n",
       "      <td>2</td>\n",
       "      <td>20</td>\n",
       "    </tr>\n",
       "    <tr>\n",
       "      <th>2</th>\n",
       "      <td>19</td>\n",
       "      <td>12.99</td>\n",
       "      <td>11</td>\n",
       "      <td>74</td>\n",
       "      <td>4.3</td>\n",
       "      <td>2</td>\n",
       "      <td>20</td>\n",
       "    </tr>\n",
       "    <tr>\n",
       "      <th>3</th>\n",
       "      <td>5</td>\n",
       "      <td>99.99</td>\n",
       "      <td>23</td>\n",
       "      <td>1032</td>\n",
       "      <td>3.6</td>\n",
       "      <td>0</td>\n",
       "      <td>20</td>\n",
       "    </tr>\n",
       "    <tr>\n",
       "      <th>4</th>\n",
       "      <td>5</td>\n",
       "      <td>79.99</td>\n",
       "      <td>14</td>\n",
       "      <td>744</td>\n",
       "      <td>3.2</td>\n",
       "      <td>1</td>\n",
       "      <td>20</td>\n",
       "    </tr>\n",
       "  </tbody>\n",
       "</table>\n",
       "</div>"
      ],
      "text/plain": [
       "   ages  list_price  num_reviews  piece_count  play_star_rating  \\\n",
       "0    19       29.99            2          277               4.0   \n",
       "1    19       19.99            2          168               4.0   \n",
       "2    19       12.99           11           74               4.3   \n",
       "3     5       99.99           23         1032               3.6   \n",
       "4     5       79.99           14          744               3.2   \n",
       "\n",
       "   review_difficulty  country  \n",
       "0                  0       20  \n",
       "1                  2       20  \n",
       "2                  2       20  \n",
       "3                  0       20  \n",
       "4                  1       20  "
      ]
     },
     "execution_count": 6,
     "metadata": {},
     "output_type": "execute_result"
    }
   ],
   "source": [
    "# View the dataset\n",
    "df_lego.head()"
   ]
  },
  {
   "cell_type": "code",
   "execution_count": 7,
   "id": "e7349725",
   "metadata": {},
   "outputs": [
    {
     "name": "stdout",
     "output_type": "stream",
     "text": [
      "<class 'pandas.core.frame.DataFrame'>\n",
      "RangeIndex: 12261 entries, 0 to 12260\n",
      "Data columns (total 7 columns):\n",
      " #   Column             Non-Null Count  Dtype  \n",
      "---  ------             --------------  -----  \n",
      " 0   ages               12261 non-null  int64  \n",
      " 1   list_price         12261 non-null  float64\n",
      " 2   num_reviews        12261 non-null  int64  \n",
      " 3   piece_count        12261 non-null  int64  \n",
      " 4   play_star_rating   12261 non-null  float64\n",
      " 5   review_difficulty  12261 non-null  int64  \n",
      " 6   country            12261 non-null  int64  \n",
      "dtypes: float64(2), int64(5)\n",
      "memory usage: 670.6 KB\n"
     ]
    }
   ],
   "source": [
    "# Check datatype, missing values, number of rows and columns in the dataset\n",
    "df_lego.info()"
   ]
  },
  {
   "cell_type": "markdown",
   "id": "426761a1",
   "metadata": {},
   "source": [
    "As seen above the data set contains 7 columns and 12261 rows and no missing values"
   ]
  },
  {
   "cell_type": "code",
   "execution_count": 8,
   "id": "b01ed71b",
   "metadata": {},
   "outputs": [
    {
     "data": {
      "text/html": [
       "<div>\n",
       "<style scoped>\n",
       "    .dataframe tbody tr th:only-of-type {\n",
       "        vertical-align: middle;\n",
       "    }\n",
       "\n",
       "    .dataframe tbody tr th {\n",
       "        vertical-align: top;\n",
       "    }\n",
       "\n",
       "    .dataframe thead th {\n",
       "        text-align: right;\n",
       "    }\n",
       "</style>\n",
       "<table border=\"1\" class=\"dataframe\">\n",
       "  <thead>\n",
       "    <tr style=\"text-align: right;\">\n",
       "      <th></th>\n",
       "      <th>ages</th>\n",
       "      <th>list_price</th>\n",
       "      <th>num_reviews</th>\n",
       "      <th>piece_count</th>\n",
       "      <th>play_star_rating</th>\n",
       "      <th>review_difficulty</th>\n",
       "      <th>country</th>\n",
       "    </tr>\n",
       "  </thead>\n",
       "  <tbody>\n",
       "    <tr>\n",
       "      <th>count</th>\n",
       "      <td>12261.00000</td>\n",
       "      <td>12261.000000</td>\n",
       "      <td>12261.000000</td>\n",
       "      <td>12261.000000</td>\n",
       "      <td>12261.000000</td>\n",
       "      <td>12261.000000</td>\n",
       "      <td>12261.000000</td>\n",
       "    </tr>\n",
       "    <tr>\n",
       "      <th>mean</th>\n",
       "      <td>16.68828</td>\n",
       "      <td>65.141998</td>\n",
       "      <td>14.603050</td>\n",
       "      <td>493.405921</td>\n",
       "      <td>3.709689</td>\n",
       "      <td>1.988826</td>\n",
       "      <td>10.015333</td>\n",
       "    </tr>\n",
       "    <tr>\n",
       "      <th>std</th>\n",
       "      <td>8.21868</td>\n",
       "      <td>91.980429</td>\n",
       "      <td>34.356847</td>\n",
       "      <td>825.364580</td>\n",
       "      <td>1.641130</td>\n",
       "      <td>1.787565</td>\n",
       "      <td>6.185450</td>\n",
       "    </tr>\n",
       "    <tr>\n",
       "      <th>min</th>\n",
       "      <td>0.00000</td>\n",
       "      <td>2.272400</td>\n",
       "      <td>0.000000</td>\n",
       "      <td>1.000000</td>\n",
       "      <td>0.000000</td>\n",
       "      <td>0.000000</td>\n",
       "      <td>0.000000</td>\n",
       "    </tr>\n",
       "    <tr>\n",
       "      <th>25%</th>\n",
       "      <td>11.00000</td>\n",
       "      <td>19.990000</td>\n",
       "      <td>1.000000</td>\n",
       "      <td>97.000000</td>\n",
       "      <td>3.600000</td>\n",
       "      <td>0.000000</td>\n",
       "      <td>4.000000</td>\n",
       "    </tr>\n",
       "    <tr>\n",
       "      <th>50%</th>\n",
       "      <td>19.00000</td>\n",
       "      <td>36.587800</td>\n",
       "      <td>4.000000</td>\n",
       "      <td>216.000000</td>\n",
       "      <td>4.400000</td>\n",
       "      <td>2.000000</td>\n",
       "      <td>10.000000</td>\n",
       "    </tr>\n",
       "    <tr>\n",
       "      <th>75%</th>\n",
       "      <td>23.00000</td>\n",
       "      <td>70.192200</td>\n",
       "      <td>11.000000</td>\n",
       "      <td>544.000000</td>\n",
       "      <td>4.700000</td>\n",
       "      <td>4.000000</td>\n",
       "      <td>15.000000</td>\n",
       "    </tr>\n",
       "    <tr>\n",
       "      <th>max</th>\n",
       "      <td>30.00000</td>\n",
       "      <td>1104.870000</td>\n",
       "      <td>367.000000</td>\n",
       "      <td>7541.000000</td>\n",
       "      <td>5.000000</td>\n",
       "      <td>5.000000</td>\n",
       "      <td>20.000000</td>\n",
       "    </tr>\n",
       "  </tbody>\n",
       "</table>\n",
       "</div>"
      ],
      "text/plain": [
       "              ages    list_price   num_reviews   piece_count  \\\n",
       "count  12261.00000  12261.000000  12261.000000  12261.000000   \n",
       "mean      16.68828     65.141998     14.603050    493.405921   \n",
       "std        8.21868     91.980429     34.356847    825.364580   \n",
       "min        0.00000      2.272400      0.000000      1.000000   \n",
       "25%       11.00000     19.990000      1.000000     97.000000   \n",
       "50%       19.00000     36.587800      4.000000    216.000000   \n",
       "75%       23.00000     70.192200     11.000000    544.000000   \n",
       "max       30.00000   1104.870000    367.000000   7541.000000   \n",
       "\n",
       "       play_star_rating  review_difficulty       country  \n",
       "count      12261.000000       12261.000000  12261.000000  \n",
       "mean           3.709689           1.988826     10.015333  \n",
       "std            1.641130           1.787565      6.185450  \n",
       "min            0.000000           0.000000      0.000000  \n",
       "25%            3.600000           0.000000      4.000000  \n",
       "50%            4.400000           2.000000     10.000000  \n",
       "75%            4.700000           4.000000     15.000000  \n",
       "max            5.000000           5.000000     20.000000  "
      ]
     },
     "execution_count": 8,
     "metadata": {},
     "output_type": "execute_result"
    }
   ],
   "source": [
    "# view the basic summary statistics of the dataset\n",
    "df_lego.describe()"
   ]
  },
  {
   "cell_type": "markdown",
   "id": "7cd7ff8d",
   "metadata": {},
   "source": [
    "The summary statistics show the measures of central tendency (mean , median) and measures of variabilty ( standard deviation, min value , maximum value) of each column. "
   ]
  },
  {
   "cell_type": "code",
   "execution_count": 9,
   "id": "0ac69ba9",
   "metadata": {},
   "outputs": [],
   "source": [
    "# Define the dependent and independant variables for the linear Regression model"
   ]
  },
  {
   "cell_type": "code",
   "execution_count": 10,
   "id": "c72ec908",
   "metadata": {},
   "outputs": [],
   "source": [
    "# dependent variable\n",
    "y = df_lego['list_price'].values.reshape(-1, 1) \n",
    "# independent variable\n",
    "X = df_lego['piece_count'].values.reshape(-1, 1) "
   ]
  },
  {
   "cell_type": "code",
   "execution_count": 11,
   "id": "6a61f0ae",
   "metadata": {},
   "outputs": [
    {
     "data": {
      "image/png": "[encoded data removed]",
      "text/plain": [
       "<Figure size 640x480 with 1 Axes>"
      ]
     },
     "metadata": {},
     "output_type": "display_data"
    }
   ],
   "source": [
    "# check for linearity\n",
    "plt.scatter(X,y)\n",
    "plt.show()"
   ]
  },
  {
   "cell_type": "markdown",
   "id": "393ee805",
   "metadata": {},
   "source": [
    "linear regression needs the relationship between the independent and dependent variables to be linear, which can be seen above in the scatterplot."
   ]
  },
  {
   "cell_type": "code",
   "execution_count": 12,
   "id": "2d55c95c",
   "metadata": {},
   "outputs": [
    {
     "data": {
      "image/png": "[encoded data removed]",
      "text/plain": [
       "<Figure size 640x480 with 1 Axes>"
      ]
     },
     "metadata": {},
     "output_type": "display_data"
    }
   ],
   "source": [
    "# cheking the distrubution of the dependant variable\n",
    "sns.histplot( x=\"list_price\", data =df_lego,binwidth=50)\n",
    "plt.show()"
   ]
  },
  {
   "cell_type": "markdown",
   "id": "7b17b333",
   "metadata": {},
   "source": [
    "From the histogram above it can be seen that a larger proportion of the the lego products fall under the $100 list price suggesting a positive skew."
   ]
  },
  {
   "cell_type": "code",
   "execution_count": 13,
   "id": "f0e10908",
   "metadata": {},
   "outputs": [],
   "source": [
    "# Split the dataset"
   ]
  },
  {
   "cell_type": "markdown",
   "id": "3a789e75",
   "metadata": {},
   "source": [
    "Split the data ( Train & Test)\n",
    "\n",
    "We need to split our variables into training and testing sets. Using the training set, we’ll build the model and perform the model on the testing set. We’ll divide the training and testing sets into a 7:3 ratio, respectively."
   ]
  },
  {
   "cell_type": "code",
   "execution_count": 14,
   "id": "c02307ad",
   "metadata": {},
   "outputs": [],
   "source": [
    "# split the data into training = 0.7 and testing = 0.3 subsets\n",
    "x_train, x_test, y_train, y_test = train_test_split(X, y,\n",
    "                                                    test_size=0.3,\n",
    "                                                    random_state=0)"
   ]
  },
  {
   "cell_type": "code",
   "execution_count": 15,
   "id": "6e188896",
   "metadata": {},
   "outputs": [],
   "source": [
    "# Run a linear Regression"
   ]
  },
  {
   "cell_type": "code",
   "execution_count": 16,
   "id": "e1882dfa",
   "metadata": {},
   "outputs": [],
   "source": [
    "# run linear regression\n",
    "lr = LinearRegression()"
   ]
  },
  {
   "cell_type": "code",
   "execution_count": 17,
   "id": "607e4be8",
   "metadata": {},
   "outputs": [
    {
     "data": {
      "text/plain": [
       "LinearRegression()"
      ]
     },
     "execution_count": 17,
     "metadata": {},
     "output_type": "execute_result"
    }
   ],
   "source": [
    "# fit the model on the training data\n",
    "lr.fit(x_train, y_train)"
   ]
  },
  {
   "cell_type": "code",
   "execution_count": 18,
   "id": "f1bb4e1e",
   "metadata": {},
   "outputs": [],
   "source": [
    "#use  predict() for predicting on the x_test\n",
    "y_pred = lr.predict(x_test)"
   ]
  },
  {
   "cell_type": "code",
   "execution_count": 19,
   "id": "f682754e",
   "metadata": {},
   "outputs": [],
   "source": [
    "# Plot the regression "
   ]
  },
  {
   "cell_type": "code",
   "execution_count": 20,
   "id": "fd0a83a4",
   "metadata": {},
   "outputs": [
    {
     "data": {
      "image/png": "[encoded data removed]",
      "text/plain": [
       "<Figure size 640x480 with 1 Axes>"
      ]
     },
     "metadata": {},
     "output_type": "display_data"
    }
   ],
   "source": [
    "# Training dataset Visualization\n",
    "plt.scatter(x_train, y_train, color = \"red\")\n",
    "plt.plot(x_train, lr.predict(x_train), color = \"green\")\n",
    "plt.title(\"Piece_count vs List_price(Training Data)\")\n",
    "plt.xlabel(\"piece_count\")\n",
    "plt.ylabel(\"list_price\")\n",
    "\n",
    "plt.show()"
   ]
  },
  {
   "cell_type": "code",
   "execution_count": 21,
   "id": "755dc991",
   "metadata": {},
   "outputs": [
    {
     "data": {
      "image/png": "[encoded data removed]",
      "text/plain": [
       "<Figure size 640x480 with 1 Axes>"
      ]
     },
     "metadata": {},
     "output_type": "display_data"
    }
   ],
   "source": [
    "# Testing Visualisation\n",
    "plt.scatter(x_test, y_test, color = \"blue\")\n",
    "plt.plot(x_train, lr.predict(x_train), color = \"green\")\n",
    "plt.title(\"Piece_count vs List_price(Testing Data)\")\n",
    "plt.xlabel(\"piece_count\")\n",
    "plt.ylabel(\"list_price\")\n",
    "\n",
    "plt.show()"
   ]
  },
  {
   "cell_type": "code",
   "execution_count": null,
   "id": "dd9be833",
   "metadata": {},
   "outputs": [],
   "source": [
    "# Print the values"
   ]
  },
  {
   "cell_type": "code",
   "execution_count": 14,
   "id": "3e2765b9",
   "metadata": {},
   "outputs": [
    {
     "name": "stdout",
     "output_type": "stream",
     "text": [
      "R-squared value: 0.7529271656910888\n"
     ]
    }
   ],
   "source": [
    "# print the R-squared value\n",
    "print(\"R-squared value:\" ,lr.score(x_train,y_train))"
   ]
  },
  {
   "cell_type": "markdown",
   "id": "141a880e",
   "metadata": {},
   "source": [
    "R-squared value is 0.752, which means that 75.2% of the list_price variance can be explained by the piece_count column using this line."
   ]
  },
  {
   "cell_type": "code",
   "execution_count": 15,
   "id": "6b7e8df3",
   "metadata": {},
   "outputs": [
    {
     "name": "stdout",
     "output_type": "stream",
     "text": [
      "Intercept value:  [17.6347917]\n",
      "Coffecient value:  [[0.09553496]]\n"
     ]
    }
   ],
   "source": [
    "print(\"Intercept value: \", lr.intercept_)\n",
    "print(\"Coffecient value: \", lr.coef_)"
   ]
  },
  {
   "cell_type": "code",
   "execution_count": 16,
   "id": "e5e81f67",
   "metadata": {},
   "outputs": [],
   "source": [
    "# Predict Value\n",
    "predicted_value = lr.predict([[8000]])"
   ]
  },
  {
   "cell_type": "code",
   "execution_count": 17,
   "id": "476da81e",
   "metadata": {},
   "outputs": [
    {
     "name": "stdout",
     "output_type": "stream",
     "text": [
      "[[781.91443965]]\n"
     ]
    }
   ],
   "source": [
    "print(predicted_value)"
   ]
  },
  {
   "cell_type": "markdown",
   "id": "f1afcfa5",
   "metadata": {},
   "source": [
    "According to the linear regression model the predicted price at which a lego set with 8000 pieces should be sold is $781.91. "
   ]
  },
  {
   "cell_type": "code",
   "execution_count": null,
   "id": "7baf748e",
   "metadata": {},
   "outputs": [],
   "source": []
  },
  {
   "cell_type": "code",
   "execution_count": null,
   "id": "77c1cde9",
   "metadata": {},
   "outputs": [],
   "source": [
    "# Multiple Linear Regression:"
   ]
  },
  {
   "cell_type": "markdown",
   "id": "8b93b5f0",
   "metadata": {},
   "source": [
    "Objective:\n",
    "\n",
    "What price should be set for the Lego sets with 8,000 Lego pieces that are most likely to be purchased by 30-year-old customers? (Multiple linear regression)"
   ]
  },
  {
   "cell_type": "code",
   "execution_count": null,
   "id": "56787004",
   "metadata": {},
   "outputs": [],
   "source": [
    "# Define the dependent and independant variables for the linear Regression model"
   ]
  },
  {
   "cell_type": "code",
   "execution_count": 22,
   "id": "5eeb007c",
   "metadata": {},
   "outputs": [],
   "source": [
    "# dependent variable\n",
    "y = df_lego['list_price']\n",
    " # independent variable\n",
    "X = df_lego[['ages','piece_count']]"
   ]
  },
  {
   "cell_type": "code",
   "execution_count": 23,
   "id": "ef963099",
   "metadata": {},
   "outputs": [],
   "source": [
    "# split the data into training = 0.7 and testing = 0.3 subsets\n",
    "x_train, x_test, y_train, y_test = train_test_split(X, y, test_size=0.30, random_state=5)"
   ]
  },
  {
   "cell_type": "code",
   "execution_count": 24,
   "id": "8f57d4da",
   "metadata": {},
   "outputs": [],
   "source": [
    "# run multiple linear regression\n",
    "multi = LinearRegression() "
   ]
  },
  {
   "cell_type": "code",
   "execution_count": 25,
   "id": "736a9be9",
   "metadata": {},
   "outputs": [
    {
     "data": {
      "text/plain": [
       "LinearRegression()"
      ]
     },
     "execution_count": 25,
     "metadata": {},
     "output_type": "execute_result"
    }
   ],
   "source": [
    "# fit the model on the training data\n",
    "multi.fit(x_train, y_train)"
   ]
  },
  {
   "cell_type": "code",
   "execution_count": 26,
   "id": "b0675662",
   "metadata": {},
   "outputs": [
    {
     "data": {
      "text/plain": [
       "array([105.31946916,  38.79803594,  25.21506289, ...,  28.52852519,\n",
       "        26.36951271,  44.92267922])"
      ]
     },
     "execution_count": 26,
     "metadata": {},
     "output_type": "execute_result"
    }
   ],
   "source": [
    "#use  predict() for predicting on the x_train\n",
    "multi.predict(x_train)"
   ]
  },
  {
   "cell_type": "code",
   "execution_count": 27,
   "id": "9bcc14c0",
   "metadata": {},
   "outputs": [
    {
     "name": "stdout",
     "output_type": "stream",
     "text": [
      "R-squared:  0.7681985466459664\n",
      "Intercept:  16.985596749203523\n",
      "Coefficients:\n"
     ]
    },
    {
     "data": {
      "text/plain": [
       "[('ages', 0.029872780947021282), ('piece_count', 0.09569755116044483)]"
      ]
     },
     "execution_count": 27,
     "metadata": {},
     "output_type": "execute_result"
    }
   ],
   "source": [
    "# Checking the value of R-squared, intercept and coefficients\n",
    "print(\"R-squared: \", multi.score(x_train, y_train))\n",
    "print(\"Intercept: \", multi.intercept_)\n",
    "print(\"Coefficients:\")\n",
    "list(zip(x_train, multi.coef_))"
   ]
  },
  {
   "cell_type": "markdown",
   "id": "0a5da1c5",
   "metadata": {},
   "source": [
    "R-squared value is 0.768, which means that 76.8% of the list_price variance can be explained by the piece_count and ages column using this line."
   ]
  },
  {
   "cell_type": "code",
   "execution_count": 35,
   "id": "0af4a3c5",
   "metadata": {},
   "outputs": [
    {
     "name": "stdout",
     "output_type": "stream",
     "text": [
      "Predicted Value: \n",
      " [783.46218946]\n"
     ]
    }
   ],
   "source": [
    "# Predict Value\n",
    "New_ages= 30\n",
    "New_piece_count = 8000\n",
    "print ('Predicted Value: \\n', multi.predict([[New_ages ,New_piece_count]])) "
   ]
  },
  {
   "cell_type": "code",
   "execution_count": 28,
   "id": "168f96a2",
   "metadata": {},
   "outputs": [
    {
     "name": "stdout",
     "output_type": "stream",
     "text": [
      "                            OLS Regression Results                            \n",
      "==============================================================================\n",
      "Dep. Variable:             list_price   R-squared:                       0.768\n",
      "Model:                            OLS   Adj. R-squared:                  0.768\n",
      "Method:                 Least Squares   F-statistic:                 1.422e+04\n",
      "Date:                Wed, 06 Jul 2022   Prob (F-statistic):               0.00\n",
      "Time:                        17:17:12   Log-Likelihood:                -44428.\n",
      "No. Observations:                8582   AIC:                         8.886e+04\n",
      "Df Residuals:                    8579   BIC:                         8.888e+04\n",
      "Df Model:                           2                                         \n",
      "Covariance Type:            nonrobust                                         \n",
      "===============================================================================\n",
      "                  coef    std err          t      P>|t|      [0.025      0.975]\n",
      "-------------------------------------------------------------------------------\n",
      "const          16.9856      1.107     15.341      0.000      14.815      19.156\n",
      "ages            0.0299      0.056      0.530      0.596      -0.081       0.140\n",
      "piece_count     0.0957      0.001    167.909      0.000       0.095       0.097\n",
      "==============================================================================\n",
      "Omnibus:                     9842.577   Durbin-Watson:                   1.962\n",
      "Prob(Omnibus):                  0.000   Jarque-Bera (JB):          1530257.494\n",
      "Skew:                           5.830   Prob(JB):                         0.00\n",
      "Kurtosis:                      67.370   Cond. No.                     2.28e+03\n",
      "==============================================================================\n",
      "\n",
      "Notes:\n",
      "[1] Standard Errors assume that the covariance matrix of the errors is correctly specified.\n",
      "[2] The condition number is large, 2.28e+03. This might indicate that there are\n",
      "strong multicollinearity or other numerical problems.\n"
     ]
    },
    {
     "name": "stderr",
     "output_type": "stream",
     "text": [
      "/Users/oliya/opt/anaconda3/lib/python3.8/site-packages/statsmodels/tsa/tsatools.py:142: FutureWarning: In a future version of pandas all arguments of concat except for the argument 'objs' will be keyword-only\n",
      "  x = pd.concat(x[::order], 1)\n"
     ]
    }
   ],
   "source": [
    "#Training and testing subsets with Multiple Linear Regression\n",
    "model = sm.OLS(y_train, sm.add_constant(x_train)).fit()\n",
    "Y_pred = model.predict(sm.add_constant(x_train))\n",
    "print_model = model.summary()\n",
    "\n",
    "print(print_model)"
   ]
  },
  {
   "cell_type": "code",
   "execution_count": 29,
   "id": "ae873996",
   "metadata": {},
   "outputs": [
    {
     "name": "stdout",
     "output_type": "stream",
     "text": [
      "76.81985466459665\n"
     ]
    }
   ],
   "source": [
    "print(multi.score(x_train,y_train)*100)"
   ]
  },
  {
   "cell_type": "code",
   "execution_count": null,
   "id": "c47dc1e8",
   "metadata": {},
   "outputs": [],
   "source": [
    "# Check the model with OLS"
   ]
  },
  {
   "cell_type": "code",
   "execution_count": 30,
   "id": "116f168b",
   "metadata": {},
   "outputs": [
    {
     "data": {
      "text/plain": [
       "LinearRegression()"
      ]
     },
     "execution_count": 30,
     "metadata": {},
     "output_type": "execute_result"
    }
   ],
   "source": [
    "# run regression on the train subset\n",
    "mlr = LinearRegression()  \n",
    "mlr.fit(x_train, y_train)"
   ]
  },
  {
   "cell_type": "code",
   "execution_count": 31,
   "id": "c80caf8b",
   "metadata": {},
   "outputs": [
    {
     "name": "stdout",
     "output_type": "stream",
     "text": [
      "                            OLS Regression Results                            \n",
      "==============================================================================\n",
      "Dep. Variable:             list_price   R-squared:                       0.768\n",
      "Model:                            OLS   Adj. R-squared:                  0.768\n",
      "Method:                 Least Squares   F-statistic:                 1.422e+04\n",
      "Date:                Wed, 06 Jul 2022   Prob (F-statistic):               0.00\n",
      "Time:                        17:18:20   Log-Likelihood:                -44428.\n",
      "No. Observations:                8582   AIC:                         8.886e+04\n",
      "Df Residuals:                    8579   BIC:                         8.888e+04\n",
      "Df Model:                           2                                         \n",
      "Covariance Type:            nonrobust                                         \n",
      "===============================================================================\n",
      "                  coef    std err          t      P>|t|      [0.025      0.975]\n",
      "-------------------------------------------------------------------------------\n",
      "const          16.9856      1.107     15.341      0.000      14.815      19.156\n",
      "ages            0.0299      0.056      0.530      0.596      -0.081       0.140\n",
      "piece_count     0.0957      0.001    167.909      0.000       0.095       0.097\n",
      "==============================================================================\n",
      "Omnibus:                     9842.577   Durbin-Watson:                   1.962\n",
      "Prob(Omnibus):                  0.000   Jarque-Bera (JB):          1530257.494\n",
      "Skew:                           5.830   Prob(JB):                         0.00\n",
      "Kurtosis:                      67.370   Cond. No.                     2.28e+03\n",
      "==============================================================================\n",
      "\n",
      "Notes:\n",
      "[1] Standard Errors assume that the covariance matrix of the errors is correctly specified.\n",
      "[2] The condition number is large, 2.28e+03. This might indicate that there are\n",
      "strong multicollinearity or other numerical problems.\n"
     ]
    },
    {
     "name": "stderr",
     "output_type": "stream",
     "text": [
      "/Users/oliya/opt/anaconda3/lib/python3.8/site-packages/statsmodels/tsa/tsatools.py:142: FutureWarning: In a future version of pandas all arguments of concat except for the argument 'objs' will be keyword-only\n",
      "  x = pd.concat(x[::order], 1)\n"
     ]
    }
   ],
   "source": [
    "model = sm.OLS(y_train, sm.add_constant(x_train)).fit()\n",
    "Y_pred = model.predict(sm.add_constant(x_train))\n",
    "print_model = model.summary()\n",
    "print(print_model)"
   ]
  },
  {
   "cell_type": "code",
   "execution_count": 32,
   "id": "43004138",
   "metadata": {},
   "outputs": [
    {
     "name": "stdout",
     "output_type": "stream",
     "text": [
      "Prediction for test set: [105.31946916  38.79803594  25.21506289 ...  28.52852519  26.36951271\n",
      "  44.92267922]\n"
     ]
    }
   ],
   "source": [
    "# Predict train dataset\n",
    "y_pred_mlr= mlr.predict(x_train)\n",
    "print(\"Prediction for test set: {}\".format(y_pred_mlr))"
   ]
  },
  {
   "cell_type": "code",
   "execution_count": 33,
   "id": "a0f30c04",
   "metadata": {},
   "outputs": [
    {
     "name": "stdout",
     "output_type": "stream",
     "text": [
      "76.81985466459665\n"
     ]
    }
   ],
   "source": [
    "print(mlr.score(x_train,y_train)*100)"
   ]
  },
  {
   "cell_type": "code",
   "execution_count": 34,
   "id": "2ecd3c43",
   "metadata": {},
   "outputs": [
    {
     "name": "stdout",
     "output_type": "stream",
     "text": [
      "R squared: 75.61\n",
      "Mean Absolute Error: 19.973823111151994\n",
      "Mean Square Error: 1836.79826754095\n"
     ]
    }
   ],
   "source": [
    "# Determine Mean absolute Error\n",
    "meanAbErr = metrics.mean_absolute_error(y_train, y_pred_mlr)\n",
    "meanSqErr = metrics.mean_squared_error(y_train, y_pred_mlr)\n",
    "\n",
    "print('R squared: {:.2f}'.format(mlr.score(X,y)*100))\n",
    "print('Mean Absolute Error:', meanAbErr)\n",
    "print('Mean Square Error:', meanSqErr)"
   ]
  },
  {
   "cell_type": "code",
   "execution_count": 36,
   "id": "83916db9",
   "metadata": {},
   "outputs": [
    {
     "name": "stdout",
     "output_type": "stream",
     "text": [
      "Predicted Value: \n",
      " [783.46218946]\n"
     ]
    }
   ],
   "source": [
    "# Predicted Value\n",
    "New_ages = 30\n",
    "New_piece_count = 8000\n",
    "print ('Predicted Value: \\n', mlr.predict([[New_ages ,New_piece_count]]))"
   ]
  },
  {
   "cell_type": "markdown",
   "id": "9febe5cb",
   "metadata": {},
   "source": [
    "According to the multiple linear regression model the predicted price at which a lego set with 8000 pieces likely to be purchased by 30 year olds is $ 783.46."
   ]
  }
 ],
 "metadata": {
  "kernelspec": {
   "display_name": "Python 3",
   "language": "python",
   "name": "python3"
  },
  "language_info": {
   "codemirror_mode": {
    "name": "ipython",
    "version": 3
   },
   "file_extension": ".py",
   "mimetype": "text/x-python",
   "name": "python",
   "nbconvert_exporter": "python",
   "pygments_lexer": "ipython3",
   "version": "3.8.8"
  }
 },
 "nbformat": 4,
 "nbformat_minor": 5
}
